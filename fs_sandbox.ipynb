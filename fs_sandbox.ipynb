{
 "cells": [
  {
   "cell_type": "code",
   "execution_count": 1,
   "metadata": {
    "collapsed": true
   },
   "outputs": [],
   "source": [
    "import httplib as http\n",
    "import ast\n",
    "import time\n",
    "import os\n",
    "import datetime as dt\n",
    "import json\n",
    "import re"
   ]
  },
  {
   "cell_type": "code",
   "execution_count": 23,
   "metadata": {},
   "outputs": [],
   "source": [
    "data = '{\"unit\":\"mg/dL\",\"rateUnit\":\"mg/dL/min\",\"egvs\":[{\"systemTime\":\"2017-06-16T15:50:00\", \"displayTime\":\"2017-06-16T07:50:00\",\"value\":97,\"status\":null,\"trend\":\"flat\", \"trendRate\":-0.4},{\"systemTime\":\"2017-06-16T15:45:00\", \"displayTime\":\"2017-06-16T07:45:00\",\"value\":99,\"status\":null,\"trend\":\"flat\", \"trendRate\":-0.5},{\"systemTime\":\"2017-06-16T15:40:00\", \"displayTime\":\"2017-06-16T07:40:00\",\"value\":101,\"status\":null,\"trend\":\"flat\", \"trendRate\":-0.6},{\"systemTime\":\"2017-06-16T15:35:00\", \"displayTime\":\"2017-06-16T07:35:00\",\"value\":104,\"status\":null,\"trend\":\"flat\", \"trendRate\":-0.7},{\"systemTime\":\"2017-06-16T15:30:00\", \"displayTime\":\"2017-06-16T07:30:00\",\"value\":107,\"status\":null,\"trend\":\"flat\", \"trendRate\":-0.8}]}'"
   ]
  },
  {
   "cell_type": "code",
   "execution_count": 24,
   "metadata": {},
   "outputs": [
    {
     "data": {
      "text/plain": [
       "str"
      ]
     },
     "execution_count": 24,
     "metadata": {},
     "output_type": "execute_result"
    }
   ],
   "source": [
    "type(data)"
   ]
  },
  {
   "cell_type": "code",
   "execution_count": 79,
   "metadata": {},
   "outputs": [],
   "source": [
    "egvs_re = re.compile('(?<=:\\[).+(?=\\]})')\n",
    "egvs = egvs_re.search(data).group().replace('null', '\"null\"')"
   ]
  },
  {
   "cell_type": "code",
   "execution_count": 80,
   "metadata": {
    "scrolled": true
   },
   "outputs": [
    {
     "data": {
      "text/plain": [
       "'{\"systemTime\":\"2017-06-16T15:50:00\", \"displayTime\":\"2017-06-16T07:50:00\",\"value\":97,\"status\":\"null\",\"trend\":\"flat\", \"trendRate\":-0.4},{\"systemTime\":\"2017-06-16T15:45:00\", \"displayTime\":\"2017-06-16T07:45:00\",\"value\":99,\"status\":\"null\",\"trend\":\"flat\", \"trendRate\":-0.5},{\"systemTime\":\"2017-06-16T15:40:00\", \"displayTime\":\"2017-06-16T07:40:00\",\"value\":101,\"status\":\"null\",\"trend\":\"flat\", \"trendRate\":-0.6},{\"systemTime\":\"2017-06-16T15:35:00\", \"displayTime\":\"2017-06-16T07:35:00\",\"value\":104,\"status\":\"null\",\"trend\":\"flat\", \"trendRate\":-0.7},{\"systemTime\":\"2017-06-16T15:30:00\", \"displayTime\":\"2017-06-16T07:30:00\",\"value\":107,\"status\":\"null\",\"trend\":\"flat\", \"trendRate\":-0.8}'"
      ]
     },
     "execution_count": 80,
     "metadata": {},
     "output_type": "execute_result"
    }
   ],
   "source": [
    "egvs"
   ]
  },
  {
   "cell_type": "code",
   "execution_count": 86,
   "metadata": {},
   "outputs": [],
   "source": [
    "list_egvs_re = re.compile('(?={).+?(?<=})')\n",
    "list_egvs = list_egvs_re.findall(egvs)"
   ]
  },
  {
   "cell_type": "code",
   "execution_count": 92,
   "metadata": {},
   "outputs": [
    {
     "data": {
      "text/plain": [
       "['{\"systemTime\":\"2017-06-16T15:50:00\", \"displayTime\":\"2017-06-16T07:50:00\",\"value\":97,\"status\":\"null\",\"trend\":\"flat\", \"trendRate\":-0.4}',\n",
       " '{\"systemTime\":\"2017-06-16T15:45:00\", \"displayTime\":\"2017-06-16T07:45:00\",\"value\":99,\"status\":\"null\",\"trend\":\"flat\", \"trendRate\":-0.5}',\n",
       " '{\"systemTime\":\"2017-06-16T15:40:00\", \"displayTime\":\"2017-06-16T07:40:00\",\"value\":101,\"status\":\"null\",\"trend\":\"flat\", \"trendRate\":-0.6}',\n",
       " '{\"systemTime\":\"2017-06-16T15:35:00\", \"displayTime\":\"2017-06-16T07:35:00\",\"value\":104,\"status\":\"null\",\"trend\":\"flat\", \"trendRate\":-0.7}',\n",
       " '{\"systemTime\":\"2017-06-16T15:30:00\", \"displayTime\":\"2017-06-16T07:30:00\",\"value\":107,\"status\":\"null\",\"trend\":\"flat\", \"trendRate\":-0.8}']"
      ]
     },
     "execution_count": 92,
     "metadata": {},
     "output_type": "execute_result"
    }
   ],
   "source": [
    "list_egvs"
   ]
  },
  {
   "cell_type": "code",
   "execution_count": 91,
   "metadata": {},
   "outputs": [
    {
     "data": {
      "text/plain": [
       "{'displayTime': '2017-06-16T07:50:00',\n",
       " 'status': 'null',\n",
       " 'systemTime': '2017-06-16T15:50:00',\n",
       " 'trend': 'flat',\n",
       " 'trendRate': -0.4,\n",
       " 'value': 97}"
      ]
     },
     "execution_count": 91,
     "metadata": {},
     "output_type": "execute_result"
    }
   ],
   "source": [
    "ast.literal_eval(list_egvs[0])"
   ]
  },
  {
   "cell_type": "code",
   "execution_count": 101,
   "metadata": {
    "scrolled": true
   },
   "outputs": [
    {
     "data": {
      "text/plain": [
       "[{'displayTime': '2017-06-16T07:50:00',\n",
       "  'status': 'null',\n",
       "  'systemTime': '2017-06-16T15:50:00',\n",
       "  'trend': 'flat',\n",
       "  'trendRate': -0.4,\n",
       "  'value': 97},\n",
       " {'displayTime': '2017-06-16T07:45:00',\n",
       "  'status': 'null',\n",
       "  'systemTime': '2017-06-16T15:45:00',\n",
       "  'trend': 'flat',\n",
       "  'trendRate': -0.5,\n",
       "  'value': 99},\n",
       " {'displayTime': '2017-06-16T07:40:00',\n",
       "  'status': 'null',\n",
       "  'systemTime': '2017-06-16T15:40:00',\n",
       "  'trend': 'flat',\n",
       "  'trendRate': -0.6,\n",
       "  'value': 101},\n",
       " {'displayTime': '2017-06-16T07:35:00',\n",
       "  'status': 'null',\n",
       "  'systemTime': '2017-06-16T15:35:00',\n",
       "  'trend': 'flat',\n",
       "  'trendRate': -0.7,\n",
       "  'value': 104},\n",
       " {'displayTime': '2017-06-16T07:30:00',\n",
       "  'status': 'null',\n",
       "  'systemTime': '2017-06-16T15:30:00',\n",
       "  'trend': 'flat',\n",
       "  'trendRate': -0.8,\n",
       "  'value': 107}]"
      ]
     },
     "execution_count": 101,
     "metadata": {},
     "output_type": "execute_result"
    }
   ],
   "source": [
    "results = [ast.literal_eval(x) for x in list_egvs]\n",
    "results"
   ]
  },
  {
   "cell_type": "code",
   "execution_count": 81,
   "metadata": {},
   "outputs": [],
   "source": [
    "units_re = re.compile('(?<=\\\"unit\\\":\\\").+(?=\\\",\\\"rateUnit)')\n",
    "units = units_re.search(data).group()"
   ]
  },
  {
   "cell_type": "code",
   "execution_count": 82,
   "metadata": {},
   "outputs": [
    {
     "data": {
      "text/plain": [
       "'mg/dL'"
      ]
     },
     "execution_count": 82,
     "metadata": {},
     "output_type": "execute_result"
    }
   ],
   "source": [
    "units"
   ]
  },
  {
   "cell_type": "code",
   "execution_count": 83,
   "metadata": {
    "collapsed": true
   },
   "outputs": [],
   "source": [
    "rate_re = re.compile('(?<=\\\"rateUnit\\\":\\\").+(?=\\\",\\\"egvs)')\n",
    "rate = rate_re.search(data).group()"
   ]
  },
  {
   "cell_type": "code",
   "execution_count": 84,
   "metadata": {},
   "outputs": [
    {
     "data": {
      "text/plain": [
       "'mg/dL/min'"
      ]
     },
     "execution_count": 84,
     "metadata": {},
     "output_type": "execute_result"
    }
   ],
   "source": [
    "rate"
   ]
  },
  {
   "cell_type": "code",
   "execution_count": null,
   "metadata": {
    "collapsed": true
   },
   "outputs": [],
   "source": []
  },
  {
   "cell_type": "code",
   "execution_count": null,
   "metadata": {
    "collapsed": true
   },
   "outputs": [],
   "source": []
  },
  {
   "cell_type": "code",
   "execution_count": null,
   "metadata": {
    "collapsed": true
   },
   "outputs": [],
   "source": []
  }
 ],
 "metadata": {
  "kernelspec": {
   "display_name": "Python 2",
   "language": "python",
   "name": "python2"
  },
  "language_info": {
   "codemirror_mode": {
    "name": "ipython",
    "version": 2
   },
   "file_extension": ".py",
   "mimetype": "text/x-python",
   "name": "python",
   "nbconvert_exporter": "python",
   "pygments_lexer": "ipython2",
   "version": "2.7.13"
  }
 },
 "nbformat": 4,
 "nbformat_minor": 2
}
